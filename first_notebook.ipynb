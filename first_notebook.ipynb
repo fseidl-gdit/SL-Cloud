{
 "cells": [
  {
   "cell_type": "markdown",
   "metadata": {},
   "source": [
    "## First notebook\n",
    "```\n",
    "Title:   First notebook\n",
    "Author:  Bahar Tercan\n",
    "Created: 02-09-2022\n",
    "Purpose: Retrieve data succesfully from BigQuery tables \n",
    "Notes: Runs in MyBinder \n",
    "```"
   ]
  },
  {
   "cell_type": "code",
   "execution_count": 1,
   "metadata": {},
   "outputs": [
    {
     "name": "stdout",
     "output_type": "stream",
     "text": [
      "Requirement already satisfied: google.cloud in /usr/local/lib/python3.9/site-packages (0.34.0)\n",
      "\u001b[33mWARNING: You are using pip version 20.3.3; however, version 22.0.3 is available.\n",
      "You should consider upgrading via the '/usr/local/opt/python@3.9/bin/python3.9 -m pip install --upgrade pip' command.\u001b[0m\n",
      "Requirement already satisfied: pandas in /usr/local/lib/python3.9/site-packages (1.4.0)\n",
      "Requirement already satisfied: pytz>=2020.1 in /usr/local/lib/python3.9/site-packages (from pandas) (2021.3)\n",
      "Requirement already satisfied: numpy>=1.18.5 in /usr/local/lib/python3.9/site-packages (from pandas) (1.22.2)\n",
      "Requirement already satisfied: python-dateutil>=2.8.1 in /usr/local/lib/python3.9/site-packages (from pandas) (2.8.2)\n",
      "Requirement already satisfied: six>=1.5 in /usr/local/lib/python3.9/site-packages (from python-dateutil>=2.8.1->pandas) (1.16.0)\n",
      "\u001b[33mWARNING: You are using pip version 20.3.3; however, version 22.0.3 is available.\n",
      "You should consider upgrading via the '/usr/local/opt/python@3.9/bin/python3.9 -m pip install --upgrade pip' command.\u001b[0m\n"
     ]
    }
   ],
   "source": [
    "# this code block only needs to be run once after loading\n",
    "!pip3 install google.cloud\n",
    "!pip3 install pandas"
   ]
  },
  {
   "cell_type": "code",
   "execution_count": null,
   "metadata": {},
   "outputs": [],
   "source": [
    "# To be able to execute queries we need to import the BQ python library \n",
    "from google.cloud import bigquery\n",
    "import pandas as pd"
   ]
  },
  {
   "cell_type": "markdown",
   "metadata": {},
   "source": [
    "## Google Authentication\n",
    "Running the BigQuery cells in this notebook requires a Google Cloud Project, instructions for creating a project can be found in the [Google Documentation](https://cloud.google.com/resource-manager/docs/creating-managing-projects#console). The instance needs to be authorized to bill the project for querying, for more information on getting started in the cloud see ['Quick Start Guide to ISB-CGC'](https://isb-cancer-genomics-cloud.readthedocs.io/en/latest/sections/HowToGetStartedonISB-CGC.html) and alternative authentication methods can be found in the [Google Documentation](https://googleapis.dev/python/google-api-core/latest/auth.html)."
   ]
  },
  {
   "cell_type": "code",
   "execution_count": null,
   "metadata": {},
   "outputs": [],
   "source": [
    "# Please make sure that you have installed Cloud SDK.\n",
    "# See support from https://cloud.google.com/sdk/docs/install\n",
    "\n",
    "!gcloud auth application-default login"
   ]
  },
  {
   "cell_type": "code",
   "execution_count": null,
   "metadata": {},
   "outputs": [],
   "source": [
    "project_id='syntheticlethality' #please replace syntheticlethality with your own projectid\n",
    "client = bigquery.Client(project_id)\n",
    "#client = bigquery.Client(credentials=credentials, project=credentials.project_id)"
   ]
  },
  {
   "cell_type": "code",
   "execution_count": null,
   "metadata": {},
   "outputs": [],
   "source": [
    "# Retrieve BRCA1 gene effect score of the first data entry for gene BRCA1 from CRISPR dataset\n",
    "crispr_query=\"\"\"\n",
    "SELECT * FROM \n",
    "`isb-cgc-bq.DEPMAP.Achilles_gene_effect_DepMapPublic_current`\n",
    "WHERE Hugo_Symbol='BRCA1'\n",
    "LIMIT 10\n",
    "\"\"\"\n",
    "brca1_gene_effect=client.query(crispr_query).result().to_dataframe()\n",
    "brca1_gene_effect"
   ]
  },
  {
   "cell_type": "code",
   "execution_count": null,
   "metadata": {},
   "outputs": [],
   "source": [
    "# Retrieve the first 10 records for BRCA1 gene expression from pancancer atlas dataset\n",
    "pancancer_atlas_query=\"\"\"\n",
    "SELECT * FROM\n",
    "`pancancer-atlas.Filtered.EBpp_AdjustPANCAN_IlluminaHiSeq_RNASeqV2_genExp_filtered` \n",
    "WHERE Symbol='BRCA1'\n",
    "LIMIT 10\n",
    "\"\"\"\n",
    "brca1_gene_exp=client.query(pancancer_atlas_query).result().to_dataframe()\n",
    "brca1_gene_exp"
   ]
  },
  {
   "cell_type": "code",
   "execution_count": null,
   "metadata": {},
   "outputs": [],
   "source": []
  }
 ],
 "metadata": {
  "kernelspec": {
   "display_name": "Python 3 (ipykernel)",
   "language": "python",
   "name": "python3"
  },
  "language_info": {
   "codemirror_mode": {
    "name": "ipython",
    "version": 3
   },
   "file_extension": ".py",
   "mimetype": "text/x-python",
   "name": "python",
   "nbconvert_exporter": "python",
   "pygments_lexer": "ipython3",
   "version": "3.9.1"
  }
 },
 "nbformat": 4,
 "nbformat_minor": 4
}
