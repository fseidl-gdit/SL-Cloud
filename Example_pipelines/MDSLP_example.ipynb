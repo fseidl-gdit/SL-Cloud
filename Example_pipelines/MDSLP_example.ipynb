{
 "cells": [
  {
   "cell_type": "markdown",
   "id": "married-trinidad",
   "metadata": {},
   "source": [
    "### Mutation dependent synthetic lethal pipeline\n",
    "```\n",
    "Title:       Data Mining Synthetic Lethality Identification Pipeline (DAISY)\n",
    "Author:      Guangrong Qin\n",
    "Contact:     gqin@systemsbiology.org\n",
    "Created:     \n",
    "Description: This notebook is used to answer which gene knockouts or knockdowns are likely to show sensitivity to mutations in specified genes.  \n",
    "```",
    "\n",
    "Citations: The functional screening data and omics data for cell lines is from the Depmap and CCLE project from the Broad institute (DepMap Public 20Q3). To use this jupyter notebook and the data which are used in the jupyter notebook, Please cite the following papers<br/>\n",
    "\n",
    "Bahar Tercan, Guangrong Qin, Taek-Kyun Kim, Boris Aguilar, Christopher J. Kemp, Nyasha Chambwe, Ilya Shmulevich. SL-Cloud: A Computational Resource to Support Synthetic Lethal Interaction Discovery. BioRxiv 2021.09.18.459450; doi: https://doi.org/10.1101/2021.09.18.459450\n",
    "\n",
    "For this DepMap release:\n",
    "DepMap, Broad (2020): DepMap 20Q3 Public. figshare. Dataset doi:10.6084/m9.figshare.11791698.v2.\n",
    "\n",
    "For CRISPR datasets:\n",
    "Robin M. Meyers, Jordan G. Bryan, James M. McFarland, Barbara A. Weir, ... David E. Root, William C. Hahn, Aviad Tsherniak. Computational correction of copy number effect improves specificity of CRISPR-Cas9 essentiality screens in cancer cells. Nature Genetics 2017 October 49:1779–1784. doi:10.1038/ng.3984. PMID: 29083409\n",
    "\n",
    "Dempster, J. M., Rossen, J., Kazachkova, M., Pan, J., Kugener, G., Root, D. E., & Tsherniak, A. (2019). Extracting Biological Insights from the Project Achilles Genome-Scale CRISPR Screens in Cancer Cell Lines. BioRxiv, 720243.\n",
    "\n",
    "For omics datasets:\n",
    "Mahmoud Ghandi, Franklin W. Huang, Judit Jané-Valbuena, Gregory V. Kryukov, ... Todd R. Golub, Levi A. Garraway & William R. Sellers. 2019. Next-generation characterization of the Cancer Cell Line Encyclopedia. Nature 569, 503–508 (2019).PMID: 31068700\n"
   ]
  },
  {
   "cell_type": "code",
   "execution_count": 9,
   "id": "55de3f61",
   "metadata": {},
   "outputs": [
    {
     "name": "stdout",
     "output_type": "stream",
     "text": [
      "module 'google-cloud-bigquery' is installed\n",
      "module 'ipywidgets' is installed\n",
      "module 'pyarrow' is installed\n",
      "module 'pandas' is installed\n",
      "module 'numpy' is installed\n",
      "module 'scipy' is installed\n",
      "module 'statsmodels' is installed\n",
      "module 'MDSLP' is installed\n"
     ]
    }
   ],
   "source": [
    "#Check the required libraries\n",
    "try:\n",
    "    from google.cloud import bigquery\n",
    "    print(\"module 'google-cloud-bigquery' is installed\")\n",
    "except ModuleNotFoundError:\n",
    "    !pip install google-cloud-bigquery\n",
    "    from google.cloud import bigquery\n",
    "\n",
    "try:\n",
    "    import ipywidgets as widgets\n",
    "    print(\"module 'ipywidgets' is installed\")\n",
    "except ModuleNotFoundError:\n",
    "    !pip install ipywidgets\n",
    "    import ipywidgets as widgets\n",
    "\n",
    "try:\n",
    "    import pyarrow\n",
    "    print(\"module 'pyarrow' is installed\")\n",
    "except ModuleNotFoundError:\n",
    "    !pip install pyarrow\n",
    "    import pyarrow\n",
    "\n",
    "try:\n",
    "    import pandas as pd\n",
    "    print(\"module 'pandas' is installed\")\n",
    "except ModuleNotFoundError:\n",
    "    !pip install pandas\n",
    "    import pandas as pd\n",
    "\n",
    "try:\n",
    "    import numpy as np\n",
    "    print(\"module 'numpy' is installed\")\n",
    "except ModuleNotFoundError:\n",
    "    !pip install numpy\n",
    "    import numpy as np\n",
    "\n",
    "try:\n",
    "    from scipy import stats    \n",
    "    print(\"module 'scipy' is installed\")\n",
    "except ModuleNotFoundError:\n",
    "    !pip install scipy\n",
    "    from scipy import stats    \n",
    "\n",
    "try:\n",
    "    import statsmodels.stats.multitest as multi   \n",
    "    print(\"module 'statsmodels' is installed\")\n",
    "except ModuleNotFoundError:\n",
    "    !pip install statsmodels\n",
    "    import statsmodels.stats.multitest as multi\n",
    "\n",
    "try:\n",
    "    from MDSLP import MDSLP\n",
    "    print(\"module 'MDSLP' is installed\")\n",
    "except ModuleNotFoundError:\n",
    "    !pip install -i https://test.pypi.org/simple/ MDSLP==0.2\n",
    "    from MDSLP import MDSLP\n",
    "        "
   ]
  },
  {
   "cell_type": "code",
   "execution_count": 3,
   "id": "a092723e",
   "metadata": {},
   "outputs": [
    {
     "name": "stdout",
     "output_type": "stream",
     "text": [
      "Your browser has been opened to visit:\n",
      "\n",
      "    https://accounts.google.com/o/oauth2/auth?response_type=code&client_id=764086051850-6qr4p6gpi6hn506pt8ejuq83di341hur.apps.googleusercontent.com&redirect_uri=http%3A%2F%2Flocalhost%3A8085%2F&scope=openid+https%3A%2F%2Fwww.googleapis.com%2Fauth%2Fuserinfo.email+https%3A%2F%2Fwww.googleapis.com%2Fauth%2Fcloud-platform+https%3A%2F%2Fwww.googleapis.com%2Fauth%2Faccounts.reauth&state=uUsaONgBNmYNlZgP8yv7rofipnYfTJ&access_type=offline&code_challenge=6SHI2biCQEQtUyfUiLvFZDOGX0FLJ5sHDseeT1k2W_M&code_challenge_method=S256\n",
      "\n",
      "\n",
      "Credentials saved to file: [/Users/guangrong/.config/gcloud/application_default_credentials.json]\n",
      "\n",
      "These credentials will be used by any library that requests Application Default Credentials (ADC).\n",
      "\n",
      "Quota project \"isb-cgc-04-0002\" was added to ADC which can be used by Google client libraries for billing and quota. Note that some services may still bill the project owning the resource.\n"
     ]
    }
   ],
   "source": [
    "# users need to run the following commend in their local machine or through the notebook.\n",
    "# Make sure to install the google cloud in the local environment. For more detail of gcloud installation, please see support from https://cloud.google.com/sdk/docs/install\n",
    "\n",
    "!gcloud auth application-default login"
   ]
  },
  {
   "cell_type": "code",
   "execution_count": null,
   "id": "527f016d",
   "metadata": {},
   "outputs": [],
   "source": [
    "%load_ext google.cloud.bigquery"
   ]
  },
  {
   "cell_type": "markdown",
   "id": "463ef8ac",
   "metadata": {},
   "source": [
    "#### Set user input 1:\n",
    "###### 1. Data_source: the desired data source, either \"shRNA\" or \"Crispr\". datatype: string\n",
    "###### 2. Mutated genes to be investigated: A list of either a single gene or multiple genes. datatype: list \n"
   ]
  },
  {
   "cell_type": "code",
   "execution_count": 13,
   "id": "interpreted-lewis",
   "metadata": {},
   "outputs": [],
   "source": [
    "# Users need to authenticate with their google cloud project to query the data in the BigQuery tables. \n",
    "project_id='syntheticlethality' # replace this id with the user google project\n",
    "\n",
    "# User input; The natural language question we ask here is which gene show a synthetic lethal interaction with the target gene.\n",
    "Data_source = \"shRNA\" # only two options are avaiable, \"shRNA\" or \"Crispr\", datatype: string\n",
    "\n",
    "Gene_list = ['BRCA2'] # data type: list of gene symbols\n",
    "\n"
   ]
  },
  {
   "cell_type": "markdown",
   "id": "04b454d7",
   "metadata": {},
   "source": [
    "#### Set user input 2:\n",
    "###### Tumor types being considered. Users can select one or multiple tumor types for analysis. \n"
   ]
  },
  {
   "cell_type": "code",
   "execution_count": 14,
   "id": "34b41692",
   "metadata": {},
   "outputs": [
    {
     "name": "stderr",
     "output_type": "stream",
     "text": [
      "/var/folders/w1/p1v0w3j165ggfdk4xpn0tzgh0000gp/T/ipykernel_88576/3912339637.py:13: DeprecationWarning: NotImplemented should not be used in a boolean context\n",
      "  TCGA_list = list(Not_none_values)\n"
     ]
    },
    {
     "data": {
      "application/vnd.jupyter.widget-view+json": {
       "model_id": "05541b89ed3a402195ba920a44d67a03",
       "version_major": 2,
       "version_minor": 0
      },
      "text/plain": [
       "SelectMultiple(description='Tumor type', options=('pancancer', 'Lymphoma', 'Lung Cancer', 'Gastric Cancer', 'M…"
      ]
     },
     "metadata": {},
     "output_type": "display_data"
    }
   ],
   "source": [
    "query = ''' \n",
    "SELECT DepMap_ID, primary_disease,TCGA_subtype\n",
    "FROM `syntheticlethality.DepMap_public_20Q3.sample_info_Depmap_withTCGA_labels` \n",
    "'''\n",
    "sample_info = client.query(query).result().to_dataframe()\n",
    "\n",
    "pancancer_cls = sample_info.loc[~sample_info['primary_disease'].isin(['Non-Cancerous','Unknown','Engineered','Immortalized'])]\n",
    "pancancer_cls = pancancer_cls.loc[~(pancancer_cls['primary_disease'].isna())]\n",
    "\n",
    "TCGA_list = [x for x in list(set(pancancer_cls['primary_disease'])) if x == x]\n",
    "\n",
    "Not_none_values = filter(None.__ne__, TCGA_list)\n",
    "TCGA_list = list(Not_none_values)\n",
    "\n",
    "tumor_type = widgets.SelectMultiple(\n",
    "    options=['pancancer'] + TCGA_list  ,\n",
    "    value=[],\n",
    "    description='Tumor type',\n",
    "    disabled=False\n",
    ")\n",
    "display(tumor_type)"
   ]
  },
  {
   "cell_type": "markdown",
   "id": "pregnant-material",
   "metadata": {},
   "source": [
    "#### Get mutation data from CCLE, CRISPR gene knockout effects from Depmap and shRNA gene knockdown gene dependency data from demeter2 v6. Depmap version 20Q3 is used for the following analysis"
   ]
  },
  {
   "cell_type": "code",
   "execution_count": 11,
   "id": "unique-jacob",
   "metadata": {},
   "outputs": [
    {
     "name": "stdout",
     "output_type": "stream",
     "text": [
      "Unnamed: 0\n",
      "AZ521_STOMACH\n",
      "GISTT1_GASTROINTESTINAL_TRACT\n",
      "MB157_BREAST\n",
      "SW527_BREAST\n"
     ]
    }
   ],
   "source": [
    "# Query data resources for further analysis\n",
    "client = bigquery.Client(project_id)\n",
    "\n",
    "# ID mapping between the CCLE annotation and input gene symbols\n",
    "id_mapping, Gene_list_matched = MDSLP.GeneSymbol_standardization(Gene_list, project_id)\n",
    "\n",
    "# get the mutation data, shRNA data or Crispr dataset\n",
    "Mut_mat = MDSLP.get_ccle_mutation_data(project_id) # Get mutation table for the ccle cell lines (version: Depmap 20Q3)\n",
    "\n",
    "if Data_source == \"shRNA\" :\n",
    "    Demeter_data = MDSLP.get_demeter_shRNA_data(project_id) # Get shRNA-based gene knockdown effects from the Depmap project (Demeter2)\n",
    "elif Data_source == \"Crispr\": \n",
    "    Depmap_matrix = MDSLP.get_depmap_crispr_data(project_id) # Get the CRISPR-based gene knockout effects from the Depmap project (version: Depmap 20Q3)\n",
    "else:\n",
    "    print(\"Data_source has only two options: shRNA or Crispr\")\n"
   ]
  },
  {
   "cell_type": "markdown",
   "id": "cef59eb5",
   "metadata": {},
   "source": [
    "##### \n",
    "You are expecting to see the message above as follows:\n",
    "Unnamed: 0 <br/>\n",
    "AZ521_STOMACH<br/>\n",
    "GISTT1_GASTROINTESTINAL_TRACT<br/>\n",
    "MB157_BREAST<br/>\n",
    "SW527_BREAST<br/>\n",
    "<br/>\n",
    "It means these cell lines are not included in the analysis as they show mismatched annotations from different datasets.\n"
   ]
  },
  {
   "cell_type": "markdown",
   "id": "written-winter",
   "metadata": {},
   "source": [
    "#### Select shRNA dataset or Crispr dataset to infer synthetic lethality pairs for mutated genes! "
   ]
  },
  {
   "cell_type": "code",
   "execution_count": 17,
   "id": "normal-quality",
   "metadata": {},
   "outputs": [
    {
     "name": "stderr",
     "output_type": "stream",
     "text": [
      "/Users/guangrong/.pyenv/versions/3.10.0/lib/python3.10/site-packages/MDSLP/MDSLP.py:281: FutureWarning: Passing a set as an indexer is deprecated and will raise in a future version. Use a list instead.\n",
      "  Depmap_matrix_sele = Depmap_matrix.loc[Samples_with_mut_kd,:].transpose()\n"
     ]
    },
    {
     "name": "stdout",
     "output_type": "stream",
     "text": [
      "Gene mutated: BRCA2\n",
      "Number of samples with mutation: 116\n"
     ]
    }
   ],
   "source": [
    "if Data_source == \"shRNA\":\n",
    "    result = MDSLP.Mutational_based_SL_pipeline(list(tumor_type.value), Gene_list_matched, Mut_mat, Demeter_data, Data_source,project_id)\n",
    "    if result.shape[0] > 0:\n",
    "        result_sig = result.loc[result['FDR_all_exp'] < 0.05]\n",
    "        result_sig = result_sig.loc[result_sig['ES']<0] # ES < 0 represents SL pairs\n",
    "    else:\n",
    "        result_sig = pd.DataFrame()\n",
    "        \n",
    "elif  Data_source == \"Crispr\":\n",
    "    result = MDSLP.Mutational_based_SL_pipeline(list(tumor_type.value), Gene_list_matched, Mut_mat, Depmap_matrix, Data_source,project_id)\n",
    "    if result.shape[0] > 0:\n",
    "        result_sig = result.loc[result['FDR_all_exp'] < 0.05]\n",
    "        result_sig = result_sig.loc[result_sig['ES'] < 0]  # ES < 0 represents SL pairs\n",
    "    else:\n",
    "        result_sig = pd.DataFrame()"
   ]
  },
  {
   "cell_type": "code",
   "execution_count": 18,
   "id": "8033ed99",
   "metadata": {},
   "outputs": [
    {
     "data": {
      "text/html": [
       "<div>\n",
       "<style scoped>\n",
       "    .dataframe tbody tr th:only-of-type {\n",
       "        vertical-align: middle;\n",
       "    }\n",
       "\n",
       "    .dataframe tbody tr th {\n",
       "        vertical-align: top;\n",
       "    }\n",
       "\n",
       "    .dataframe thead th {\n",
       "        text-align: right;\n",
       "    }\n",
       "</style>\n",
       "<table border=\"1\" class=\"dataframe\">\n",
       "  <thead>\n",
       "    <tr style=\"text-align: right;\">\n",
       "      <th></th>\n",
       "      <th>Gene_mut</th>\n",
       "      <th>Gene_mut_symbol</th>\n",
       "      <th>Gene_kd</th>\n",
       "      <th>Gene_kd_symbol</th>\n",
       "      <th>Mutated_samples</th>\n",
       "      <th>pvalue</th>\n",
       "      <th>ES</th>\n",
       "      <th>FDR_by_gene</th>\n",
       "      <th>FDR_all_exp</th>\n",
       "      <th>Tumor_type</th>\n",
       "    </tr>\n",
       "  </thead>\n",
       "  <tbody>\n",
       "    <tr>\n",
       "      <th>3005</th>\n",
       "      <td>BRCA2</td>\n",
       "      <td>BRCA2</td>\n",
       "      <td>CTNNB1</td>\n",
       "      <td>CTNNB1</td>\n",
       "      <td>116</td>\n",
       "      <td>2.026703e-16</td>\n",
       "      <td>-0.858768</td>\n",
       "      <td>2.214368e-12</td>\n",
       "      <td>2.214368e-12</td>\n",
       "      <td>pancancer</td>\n",
       "    </tr>\n",
       "    <tr>\n",
       "      <th>10876</th>\n",
       "      <td>BRCA2</td>\n",
       "      <td>BRCA2</td>\n",
       "      <td>DDX27</td>\n",
       "      <td>DDX27</td>\n",
       "      <td>116</td>\n",
       "      <td>2.558632e-16</td>\n",
       "      <td>-0.855453</td>\n",
       "      <td>2.214368e-12</td>\n",
       "      <td>2.214368e-12</td>\n",
       "      <td>pancancer</td>\n",
       "    </tr>\n",
       "    <tr>\n",
       "      <th>3479</th>\n",
       "      <td>BRCA2</td>\n",
       "      <td>BRCA2</td>\n",
       "      <td>DHX9</td>\n",
       "      <td>DHX9</td>\n",
       "      <td>116</td>\n",
       "      <td>3.563206e-13</td>\n",
       "      <td>-0.755262</td>\n",
       "      <td>2.055851e-09</td>\n",
       "      <td>2.055851e-09</td>\n",
       "      <td>pancancer</td>\n",
       "    </tr>\n",
       "    <tr>\n",
       "      <th>4512</th>\n",
       "      <td>BRCA2</td>\n",
       "      <td>BRCA2</td>\n",
       "      <td>SCAP</td>\n",
       "      <td>SH2D2A</td>\n",
       "      <td>116</td>\n",
       "      <td>6.567143e-12</td>\n",
       "      <td>-0.711796</td>\n",
       "      <td>2.841767e-08</td>\n",
       "      <td>2.841767e-08</td>\n",
       "      <td>pancancer</td>\n",
       "    </tr>\n",
       "    <tr>\n",
       "      <th>3619</th>\n",
       "      <td>BRCA2</td>\n",
       "      <td>BRCA2</td>\n",
       "      <td>DLST</td>\n",
       "      <td>DLST</td>\n",
       "      <td>116</td>\n",
       "      <td>1.186358e-11</td>\n",
       "      <td>-0.702331</td>\n",
       "      <td>4.106935e-08</td>\n",
       "      <td>4.106935e-08</td>\n",
       "      <td>pancancer</td>\n",
       "    </tr>\n",
       "    <tr>\n",
       "      <th>...</th>\n",
       "      <td>...</td>\n",
       "      <td>...</td>\n",
       "      <td>...</td>\n",
       "      <td>...</td>\n",
       "      <td>...</td>\n",
       "      <td>...</td>\n",
       "      <td>...</td>\n",
       "      <td>...</td>\n",
       "      <td>...</td>\n",
       "      <td>...</td>\n",
       "    </tr>\n",
       "    <tr>\n",
       "      <th>8535</th>\n",
       "      <td>BRCA2</td>\n",
       "      <td>BRCA2</td>\n",
       "      <td>MAP3K11</td>\n",
       "      <td>MAP3K11</td>\n",
       "      <td>116</td>\n",
       "      <td>1.557562e-03</td>\n",
       "      <td>-0.323304</td>\n",
       "      <td>4.854290e-02</td>\n",
       "      <td>4.854290e-02</td>\n",
       "      <td>pancancer</td>\n",
       "    </tr>\n",
       "    <tr>\n",
       "      <th>11083</th>\n",
       "      <td>BRCA2</td>\n",
       "      <td>BRCA2</td>\n",
       "      <td>DMAP1</td>\n",
       "      <td>DMAP1</td>\n",
       "      <td>116</td>\n",
       "      <td>1.558155e-03</td>\n",
       "      <td>-0.323325</td>\n",
       "      <td>4.854290e-02</td>\n",
       "      <td>4.854290e-02</td>\n",
       "      <td>pancancer</td>\n",
       "    </tr>\n",
       "    <tr>\n",
       "      <th>8250</th>\n",
       "      <td>BRCA2</td>\n",
       "      <td>BRCA2</td>\n",
       "      <td>ZNF658B</td>\n",
       "      <td>ZNF658B</td>\n",
       "      <td>81</td>\n",
       "      <td>1.586154e-03</td>\n",
       "      <td>-0.383814</td>\n",
       "      <td>4.920205e-02</td>\n",
       "      <td>4.920205e-02</td>\n",
       "      <td>pancancer</td>\n",
       "    </tr>\n",
       "    <tr>\n",
       "      <th>4837</th>\n",
       "      <td>BRCA2</td>\n",
       "      <td>BRCA2</td>\n",
       "      <td>SRGAP2</td>\n",
       "      <td>SRGAP3</td>\n",
       "      <td>114</td>\n",
       "      <td>1.600124e-03</td>\n",
       "      <td>-0.324791</td>\n",
       "      <td>4.936995e-02</td>\n",
       "      <td>4.936995e-02</td>\n",
       "      <td>pancancer</td>\n",
       "    </tr>\n",
       "    <tr>\n",
       "      <th>4259</th>\n",
       "      <td>BRCA2</td>\n",
       "      <td>BRCA2</td>\n",
       "      <td>EEF1AKMT1</td>\n",
       "      <td>EEF1AKMT1</td>\n",
       "      <td>103</td>\n",
       "      <td>1.607984e-03</td>\n",
       "      <td>-0.344749</td>\n",
       "      <td>4.952418e-02</td>\n",
       "      <td>4.952418e-02</td>\n",
       "      <td>pancancer</td>\n",
       "    </tr>\n",
       "  </tbody>\n",
       "</table>\n",
       "<p>397 rows × 10 columns</p>\n",
       "</div>"
      ],
      "text/plain": [
       "      Gene_mut Gene_mut_symbol    Gene_kd Gene_kd_symbol  Mutated_samples  \\\n",
       "3005     BRCA2           BRCA2     CTNNB1         CTNNB1              116   \n",
       "10876    BRCA2           BRCA2      DDX27          DDX27              116   \n",
       "3479     BRCA2           BRCA2       DHX9           DHX9              116   \n",
       "4512     BRCA2           BRCA2       SCAP         SH2D2A              116   \n",
       "3619     BRCA2           BRCA2       DLST           DLST              116   \n",
       "...        ...             ...        ...            ...              ...   \n",
       "8535     BRCA2           BRCA2    MAP3K11        MAP3K11              116   \n",
       "11083    BRCA2           BRCA2      DMAP1          DMAP1              116   \n",
       "8250     BRCA2           BRCA2    ZNF658B        ZNF658B               81   \n",
       "4837     BRCA2           BRCA2     SRGAP2         SRGAP3              114   \n",
       "4259     BRCA2           BRCA2  EEF1AKMT1      EEF1AKMT1              103   \n",
       "\n",
       "             pvalue        ES   FDR_by_gene   FDR_all_exp Tumor_type  \n",
       "3005   2.026703e-16 -0.858768  2.214368e-12  2.214368e-12  pancancer  \n",
       "10876  2.558632e-16 -0.855453  2.214368e-12  2.214368e-12  pancancer  \n",
       "3479   3.563206e-13 -0.755262  2.055851e-09  2.055851e-09  pancancer  \n",
       "4512   6.567143e-12 -0.711796  2.841767e-08  2.841767e-08  pancancer  \n",
       "3619   1.186358e-11 -0.702331  4.106935e-08  4.106935e-08  pancancer  \n",
       "...             ...       ...           ...           ...        ...  \n",
       "8535   1.557562e-03 -0.323304  4.854290e-02  4.854290e-02  pancancer  \n",
       "11083  1.558155e-03 -0.323325  4.854290e-02  4.854290e-02  pancancer  \n",
       "8250   1.586154e-03 -0.383814  4.920205e-02  4.920205e-02  pancancer  \n",
       "4837   1.600124e-03 -0.324791  4.936995e-02  4.936995e-02  pancancer  \n",
       "4259   1.607984e-03 -0.344749  4.952418e-02  4.952418e-02  pancancer  \n",
       "\n",
       "[397 rows x 10 columns]"
      ]
     },
     "execution_count": 18,
     "metadata": {},
     "output_type": "execute_result"
    }
   ],
   "source": [
    "result_sig.sort_values(by = ['FDR_all_exp'])"
   ]
  },
  {
   "cell_type": "code",
   "execution_count": null,
   "id": "textile-demographic",
   "metadata": {},
   "outputs": [],
   "source": [
    "result_sig.to_csv(\"result_sig.csv\")"
   ]
  },
  {
   "cell_type": "markdown",
   "id": "resident-edwards",
   "metadata": {},
   "source": [
    "###### Result interpretation \n",
    "result_sig table contains the synthetic lethal gene pairs predicted from this pipeline.<br/>\n",
    "###### table annotation:\n",
    "Gene_mut: mutated genes;<br/>\n",
    "Gene_kd: gene knockdown or knock out <br/>\n",
    "Mutated_samples: Number of mutated cell lines in the selected tumor type<br/>\n",
    "pvalue: p-value result from t-test<br/>\n",
    "ES: effect size of gene effects between the mutated group and wild type group<br/>\n",
    "FDR_all_exp: FDR for p-value for all analysis<br/>\n",
    "FDR_by_gene: FDR for p-value by one gene mutation<br/>\n",
    "Tumor_type: tumor types in analysis"
   ]
  }
 ],
 "metadata": {
  "kernelspec": {
   "display_name": "Python 3 (ipykernel)",
   "language": "python",
   "name": "python3"
  },
  "language_info": {
   "codemirror_mode": {
    "name": "ipython",
    "version": 3
   },
   "file_extension": ".py",
   "mimetype": "text/x-python",
   "name": "python",
   "nbconvert_exporter": "python",
   "pygments_lexer": "ipython3",
   "version": "3.10.0"
  }
 },
 "nbformat": 4,
 "nbformat_minor": 5
}
